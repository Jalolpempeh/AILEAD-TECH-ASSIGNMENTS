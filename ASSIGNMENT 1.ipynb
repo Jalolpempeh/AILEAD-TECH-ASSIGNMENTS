{
 "cells": [
  {
   "cell_type": "markdown",
   "metadata": {},
   "source": [
    "# # Exercise\n",
    "- Write a program using the following list and sort it based on the sum of the values of the tuples of the list:\n",
    "-   [(1,5),(9,0),(12,3),(5,4),(13,6),(1,1)]\n",
    "- Given a two Python list. Iterate both lists simultaneously such that list1 should display item in original order and list2 in reverse order:\n",
    "\n",
    "-  list1 = [10, 20, 30, 40], list2 = [100, 200, 300, 400]\n",
    "- Given number 1 through 10, write a program to display \"Even\" for even numbers and \"Odd\" for odd numbers.\n",
    "\n",
    "- Write a Python program to count the number of strings where the string length is 2 or more and the first and last character are same from a given list of strings:\n",
    "\n",
    "-   ['abc', 'xyz', 'aba', '1221', 'bhgsskknb', 'aa']\n",
    "- Given a list of 1 through 10, write a program to display the square root of the even numbers\n",
    "\n",
    "- write a program such that  𝑙𝑖𝑠𝑡1  will act as keys while  𝑙𝑖𝑠𝑡2  will act as the values of the dictionary:\n",
    "\n",
    "-  list1 = [1, 2, 3, 4, 5], list2 = [\"a\", \"b\", \"c\",\"d\", \"e\"]"
   ]
  },
  {
   "cell_type": "markdown",
   "metadata": {},
   "source": [
    "# No. 1"
   ]
  },
  {
   "cell_type": "code",
   "execution_count": 3,
   "metadata": {},
   "outputs": [
    {
     "data": {
      "text/plain": [
       "[2, 6, 9, 9, 15, 19]"
      ]
     },
     "execution_count": 3,
     "metadata": {},
     "output_type": "execute_result"
    }
   ],
   "source": [
    "lst = [(1,5),(9,0),(12,3),(5,4),(13,6),(1,1)]\n",
    "# using list comprehension\n",
    "lsts = [ i[0] + i[1] for i in lst]\n",
    "lsts.sort()\n",
    "lsts"
   ]
  },
  {
   "cell_type": "markdown",
   "metadata": {},
   "source": [
    "# No. 2"
   ]
  },
  {
   "cell_type": "code",
   "execution_count": 1,
   "metadata": {},
   "outputs": [
    {
     "name": "stdout",
     "output_type": "stream",
     "text": [
      "10 400\n",
      "20 300\n",
      "30 200\n",
      "40 100\n"
     ]
    }
   ],
   "source": [
    "list1 = [10, 20, 30, 40]\n",
    "list2 = [100, 200, 300, 400]\n",
    "#using list comprehension\n",
    "list3 = [print(x,y) for (x,y) in zip(list1,reversed(list2))]\n"
   ]
  },
  {
   "cell_type": "markdown",
   "metadata": {},
   "source": [
    "# No. 3"
   ]
  },
  {
   "cell_type": "code",
   "execution_count": 2,
   "metadata": {},
   "outputs": [
    {
     "name": "stdout",
     "output_type": "stream",
     "text": [
      "Odd\n",
      "Even\n",
      "Odd\n",
      "Even\n",
      "Odd\n",
      "Even\n",
      "Odd\n",
      "Even\n",
      "Odd\n",
      "Even\n"
     ]
    }
   ],
   "source": [
    "num = list(range(1,11))\n",
    "# using list comprehension\n",
    "lst = [print(\"Even\") if i%2==0 else print(\"Odd\") for i in num]"
   ]
  },
  {
   "cell_type": "markdown",
   "metadata": {},
   "source": [
    "# No. 4"
   ]
  },
  {
   "cell_type": "code",
   "execution_count": 4,
   "metadata": {},
   "outputs": [
    {
     "data": {
      "text/plain": [
       "4"
      ]
     },
     "execution_count": 4,
     "metadata": {},
     "output_type": "execute_result"
    }
   ],
   "source": [
    "list1 = ['abc', 'xyz', 'aba', '1221', 'bhgsskknb', 'aa']\n",
    "# using list comprehension\n",
    "lst = [lst.append(i) for i in list1 if len(i) >= 2 and (i[0] == i[-1])]\n",
    "lst\n",
    "len(lst)\n",
    "      "
   ]
  },
  {
   "cell_type": "markdown",
   "metadata": {},
   "source": [
    "# No. 5"
   ]
  },
  {
   "cell_type": "code",
   "execution_count": 4,
   "metadata": {},
   "outputs": [
    {
     "name": "stdout",
     "output_type": "stream",
     "text": [
      "1.4142135623730951\n",
      "2.0\n",
      "2.449489742783178\n",
      "2.8284271247461903\n",
      "3.1622776601683795\n"
     ]
    }
   ],
   "source": [
    "lst1 = list(range(1,11))\n",
    "# using list comprehension\n",
    "lst2 = [print(i**0.5) for i in lst1 if i % 2 == 0 ]\n"
   ]
  },
  {
   "cell_type": "markdown",
   "metadata": {},
   "source": [
    "# No. 6"
   ]
  },
  {
   "cell_type": "code",
   "execution_count": 5,
   "metadata": {},
   "outputs": [
    {
     "name": "stdout",
     "output_type": "stream",
     "text": [
      "{1: 'a', 2: 'b', 3: 'c', 4: 'd', 5: 'e'}\n"
     ]
    }
   ],
   "source": [
    "list1 = [1, 2, 3, 4, 5]\n",
    "list2 = [\"a\", \"b\", \"c\",\"d\", \"e\"]\n",
    "# using list comprehension\n",
    "list3 = dict([(i,j) for (i,j) in zip(list1,list2)])\n",
    "print(list3)"
   ]
  },
  {
   "cell_type": "code",
   "execution_count": null,
   "metadata": {},
   "outputs": [],
   "source": []
  }
 ],
 "metadata": {
  "kernelspec": {
   "display_name": "Python 3",
   "language": "python",
   "name": "python3"
  },
  "language_info": {
   "codemirror_mode": {
    "name": "ipython",
    "version": 3
   },
   "file_extension": ".py",
   "mimetype": "text/x-python",
   "name": "python",
   "nbconvert_exporter": "python",
   "pygments_lexer": "ipython3",
   "version": "3.7.6"
  }
 },
 "nbformat": 4,
 "nbformat_minor": 4
}
